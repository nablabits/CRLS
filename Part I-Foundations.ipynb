{
 "cells": [
  {
   "cell_type": "markdown",
   "metadata": {},
   "source": [
    "# The role of algorithms in Computing"
   ]
  },
  {
   "cell_type": "markdown",
   "metadata": {},
   "source": [
    "## Algorithms as a technology\n",
    "### Efficiency\n",
    ">For a concrete example, let us pit a faster computer (computer A) running insertion sort against a slower computer (computer B) running merge sort. They each must sort an array of 10 million numbers. (Although 10 million numbers might seem like a lot, if the numbers are eight-byte integers, then the input occupies about 80 megabytes, which fits in the memory of even an inexpensive laptop com-puter many times over.) Suppose that computer A executes 10 billion instructions per second (faster than any single sequential computer at the time of this writing)\n",
    "and computer B executes only 10 million instructions per second, so that computer A is 1000 times faster than computer B in raw computing power. To make the difference even more dramatic, suppose that the world’s craftiest programmer codes insertion sort in machine language for computer A, and the resulting code requires $2n^2$ instructions to sort n numbers. Suppose further that just an average programmer implements merge sort, using a high-level language with an inefficient compiler, with the resulting code taking $50n\\log_2(n)$ instructions."
   ]
  },
  {
   "cell_type": "code",
   "execution_count": 1,
   "metadata": {},
   "outputs": [
    {
     "name": "stdout",
     "output_type": "stream",
     "text": [
      "\n",
      "    Algorithm A uses 6.0 hours to run, whereas\n",
      "    algorithm B needs 19.0 minutes!\n"
     ]
    }
   ],
   "source": [
    "n = 10^7  # The size of our input\n",
    "speed_A = 10^10 * 3600  # in hours\n",
    "speed_B = 10^7 * 60  # in minutes\n",
    "\n",
    "performance_A(n) = 2n^2  # significantly worse!\n",
    "performance_B(n) = 50n*log2(n)  # efficient!\n",
    "\n",
    "time_a = round(performance_A(n) / speed_A)\n",
    "time_b = round(performance_B(n) / speed_B)\n",
    "\n",
    "println(\"\n",
    "    Algorithm A uses $time_a hours to run, whereas\n",
    "    algorithm B needs $time_b minutes!\")"
   ]
  },
  {
   "cell_type": "markdown",
   "metadata": {},
   "source": [
    "**Exercises**\n",
    "* Suppose we are comparing implementations of insertion sort and merge sort on the same machine. For inputs of size n, insertion sort runs in $8n^2$ steps, while merge sort runs in $64n\\log_2(n)$ steps. For which values of n does insertion sort beat merge sort?"
   ]
  },
  {
   "cell_type": "code",
   "execution_count": 2,
   "metadata": {},
   "outputs": [
    {
     "name": "stdout",
     "output_type": "stream",
     "text": [
      "while n < 44, insertion is faster\n"
     ]
    }
   ],
   "source": [
    "insertion(n) = 8n^2\n",
    "merge_sort(n) = 64n*log2(n)\n",
    "n = 2\n",
    "while insertion(n) < merge_sort(n)\n",
    "    n += 1\n",
    "end\n",
    "println(\"while n < $n, insertion is faster\")"
   ]
  },
  {
   "cell_type": "markdown",
   "metadata": {},
   "source": [
    "* What is the smallest value of n such that an algorithm whose running time is $100n^2$ runs faster than an algorithm whose running time is $2^n$ on the same machine?"
   ]
  },
  {
   "cell_type": "code",
   "execution_count": 3,
   "metadata": {},
   "outputs": [
    {
     "name": "stdout",
     "output_type": "stream",
     "text": [
      "From n > 15, algorithm a is faster\n"
     ]
    }
   ],
   "source": [
    "alg_a(n) = 100n^2\n",
    "alg_b(n) = 2^n\n",
    "n = 2\n",
    "while alg_a(n) > alg_b(n)\n",
    "    n += 1\n",
    "end\n",
    "println(\"From n > $n, algorithm a is faster\")"
   ]
  },
  {
   "cell_type": "markdown",
   "metadata": {},
   "source": [
    "### Comparison of running times\n",
    "For each function $f(n)$ and time $t$ in the following table, determine the largest size $n$ of a problem that can be solved in time $t$, assuming that the algorithm to solve the problem takes $f(n)$ microseconds."
   ]
  },
  {
   "cell_type": "markdown",
   "metadata": {},
   "source": [
    "### Computing $\\log_2(n)$\n",
    "Basically $log_2(n)$ hits the float overflow ($10^{308}$) rigth for the shortest running time. The max inputs one can process in a given time are:  \n",
    "In one second ($10^6\\mu\\text{s}$): $2^{10^6}$. Already a quite big number  \n",
    "In one minute ($6\\times 10^7\\mu\\text{s}$):  $2^{6\\times 10^7}$  \n",
    "In one  hour ($3.6\\times 10^9\\mu\\text{s}$):  $2^{10^9}\\times 2^{3.6}$  \n",
    "In one day ($8.64\\times 10^{10}\\mu\\text{s}$): $2^{10^{10}}\\times 2^{8.64}$  \n",
    "In one month ($2.59\\times 10^{12}\\mu\\text{s}$): $2^{10^{12}}\\times 2^{2.59}$  \n",
    "In one year ($3.11\\times 10^{13}\\mu\\text{s}$): $2^{10^{13}}\\times 2^{3.11}$  \n",
    "In one century ($3.11\\times 10^{15}\\mu\\text{s}$):-> $2^{10^{15}}\\times 2^{3.11}$"
   ]
  },
  {
   "cell_type": "markdown",
   "metadata": {},
   "source": [
    "### Computing sqrt(n), n, n^2, n^3 & 2^n times"
   ]
  },
  {
   "cell_type": "code",
   "execution_count": 3,
   "metadata": {},
   "outputs": [
    {
     "data": {
      "text/plain": [
       "5-element Array{Array{Float64,1},1}:\n",
       " [1.0e12, 3.6e15, 1.296e19, 7.46496e21, 6.718464e24, 9.67458816e26, 9.67458816e30]\n",
       " [1.0e6, 6.0e7, 3.6e9, 8.64e10, 2.592e12, 3.1104e13, 3.1104e15]\n",
       " [1000.0, 7745.966692414834, 60000.0, 293938.7691339814, 1.6099689437998487e6, 5.57709601853868e6, 5.577096018538681e7]\n",
       " [99.99999999999997, 391.4867641168862, 1532.6188647871056, 4420.837798368462, 13736.570910639975, 31448.89673050674, 145972.8478937615]\n",
       " [19.931568569324174, 25.838459164932694, 31.74534976054121, 36.330312261262364, 41.23720285687089, 44.82216535759204, 51.466021547366765]"
      ]
     },
     "execution_count": 3,
     "metadata": {},
     "output_type": "execute_result"
    }
   ],
   "source": [
    "periods = [\"second\", \"minute\", \"hour\", \"day\", \"month\", \"year\", \"century\", ]\n",
    "# Create the factors by which the times' array will grow.\n",
    "factors = [60, 60, 24, 30, 12, 100, ]\n",
    "# Define the starting point of the times array\n",
    "times = [1e6, ]\n",
    "for factor in factors\n",
    "    push!(times, times[end]*factor)\n",
    "end\n",
    "\n",
    "# Sizes for sqrt(n), n, n^2, n^3 & 2^n\n",
    "[times .^ 2, times, sqrt.(times), times .^ (1/3), log2.(times)]"
   ]
  },
  {
   "cell_type": "markdown",
   "metadata": {},
   "source": [
    "### Computing $\\text{n} \\log_2(n)$  \n",
    "**Newton's method**  \n",
    "Computing $n\\log_{2}n$ is tricky. Someone else went through it at [math.stackexchange](https://math.stackexchange.com/questions/1301343/how-to-find-the-inverse-of-n-log-n). Basically we'll use Newton method that is used to find roots, but in this case, we'll want to find the point $(x_n, 10^6)$, ie, the size of our input when it hits the $10^6\\mu\\text{s}$ value. It was confusing the $-10^6$ until relized that in this case we are not looking for a root but instead for the $10^6$ intercept."
   ]
  },
  {
   "cell_type": "code",
   "execution_count": 38,
   "metadata": {},
   "outputs": [
    {
     "name": "stdout",
     "output_type": "stream",
     "text": [
      "1 second (1.0e6 seconds): 62746 (3 loops)\n",
      "1 minute (6.0e7 seconds): 2801417 (3 loops)\n",
      "1 hour (3.6e9 seconds): 133378058 (4 loops)\n",
      "1 day (8.64e10 seconds): 2755147513 (4 loops)\n",
      "1 month (2.592e12 seconds): 71870856404 (4 loops)\n",
      "1 year (3.1104e13 seconds): 787089606198 (4 loops)\n",
      "1 century (3.1104e15 seconds): 67699498463641 (4 loops)\n"
     ]
    }
   ],
   "source": [
    "function newton(n::Float64, y_0::Float64)\n",
    "    \"\"\"\n",
    "    Compute one iteration of the Newton approximation method.\n",
    "    \n",
    "    args: \n",
    "    n: the approximation of the size of the input in the current loop\n",
    "    y_0: the target time where n should intercept\n",
    "    \"\"\"\n",
    "    return n - ((n*log2(n)- y_0)/(log2(n)+(1/log(2))))\n",
    "end\n",
    "\n",
    "function start(y_0::Float64)\n",
    "    \"\"\"\n",
    "    Approximate the starting point for first iteration.\n",
    "    \n",
    "    Args:\n",
    "    y_0: the target time where n should intercept\n",
    "    \"\"\"\n",
    "    return y_0 / log2(y_0)\n",
    "end\n",
    "\n",
    "function iterNewton(y_0::Float64)\n",
    "    \"\"\"\n",
    "    Iterate the newton method until finding a suitable solution. \n",
    "    \n",
    "    Args:\n",
    "    y_0: the target time where n should intercept\n",
    "    \"\"\"\n",
    "    prior = y_0\n",
    "    approximation = start(y_0)\n",
    "    loops = 0\n",
    "    while abs(prior - approximation) > 1\n",
    "        prior = approximation\n",
    "        approximation = newton(approximation, y_0)\n",
    "        loops += 1\n",
    "    end\n",
    "    \n",
    "    # Ensure our approximations are good enough\n",
    "    @assert abs(approximation * log2(approximation) - y_0) < 1\n",
    "    \n",
    "    return trunc(Int, approximation), loops\n",
    "end\n",
    "\n",
    "for (p, t) in zip(periods, times)\n",
    "    n, loops = iterNewton(t)\n",
    "    println(\"1 $p ($t seconds): $n ($loops loops)\")\n",
    "end"
   ]
  },
  {
   "cell_type": "markdown",
   "metadata": {},
   "source": [
    "**Binary search**  \n",
    "One can use a binary search to *efficiently* brute force estimate the size of the input"
   ]
  },
  {
   "cell_type": "code",
   "execution_count": 43,
   "metadata": {
    "jupyter": {
     "source_hidden": true
    }
   },
   "outputs": [
    {
     "name": "stdout",
     "output_type": "stream",
     "text": [
      "1 second (1.0e6 seconds): 62746 (20 loops)\n",
      "1 minute (6.0e7 seconds): 2801417 (26 loops)\n",
      "1 hour (3.6e9 seconds): 133378058 (32 loops)\n",
      "1 day (8.64e10 seconds): 2755147513 (37 loops)\n",
      "1 month (2.592e12 seconds): 71870856403 (42 loops)\n",
      "1 year (3.1104e13 seconds): 787089606197 (45 loops)\n",
      "1 century (3.1104e15 seconds): 67699498463641 (52 loops)\n"
     ]
    }
   ],
   "source": [
    "function binarySearch(target::Float64)\n",
    "    \"\"\"\n",
    "    Search the size of the input to reach the target time.\n",
    "    \n",
    "    Args:\n",
    "    target: the time for which we are searching the input size.\n",
    "    \"\"\"\n",
    "    lower = loops = 0\n",
    "    upper = target\n",
    "    while abs(lower - upper) > 1\n",
    "        mid_point = (upper + lower) / 2\n",
    "        p = mid_point * log2(mid_point)\n",
    "        loops += 1\n",
    "        if p > target\n",
    "            upper = mid_point\n",
    "        else\n",
    "            lower = mid_point\n",
    "        end\n",
    "    end\n",
    "    # Ensure our approximations are good enough\n",
    "    @assert abs(upper * log2(upper) - target) < 20\n",
    "    return trunc(Int, lower), loops\n",
    "end\n",
    "\n",
    "for (p, t) in zip(periods, times)\n",
    "    n, loops = binarySearch(t)\n",
    "    println(\"1 $p ($t seconds): $n ($loops loops)\")\n",
    "end"
   ]
  },
  {
   "cell_type": "markdown",
   "metadata": {},
   "source": [
    "**Efficiency of above two approaches**  \n"
   ]
  },
  {
   "cell_type": "code",
   "execution_count": 7,
   "metadata": {},
   "outputs": [
    {
     "data": {
      "text/plain": [
       "BenchmarkTools.Trial: \n",
       "  memory estimate:  16 bytes\n",
       "  allocs estimate:  1\n",
       "  --------------\n",
       "  minimum time:     270.374 ns (0.00% GC)\n",
       "  median time:      276.460 ns (0.00% GC)\n",
       "  mean time:        284.968 ns (0.16% GC)\n",
       "  maximum time:     5.048 μs (92.57% GC)\n",
       "  --------------\n",
       "  samples:          10000\n",
       "  evals/sample:     313"
      ]
     },
     "execution_count": 7,
     "metadata": {},
     "output_type": "execute_result"
    }
   ],
   "source": [
    "using BenchmarkTools\n",
    "@benchmark iterNewton(times[end])"
   ]
  },
  {
   "cell_type": "code",
   "execution_count": 8,
   "metadata": {},
   "outputs": [
    {
     "data": {
      "text/plain": [
       "BenchmarkTools.Trial: \n",
       "  memory estimate:  16 bytes\n",
       "  allocs estimate:  1\n",
       "  --------------\n",
       "  minimum time:     904.231 ns (0.00% GC)\n",
       "  median time:      923.288 ns (0.00% GC)\n",
       "  mean time:        960.738 ns (0.00% GC)\n",
       "  maximum time:     2.054 μs (0.00% GC)\n",
       "  --------------\n",
       "  samples:          10000\n",
       "  evals/sample:     52"
      ]
     },
     "execution_count": 8,
     "metadata": {},
     "output_type": "execute_result"
    }
   ],
   "source": [
    "@benchmark binarySearch(times[end])"
   ]
  },
  {
   "cell_type": "markdown",
   "metadata": {},
   "source": [
    "As expected Newton is faster (about 3.5 times more) because of the less iterations to reach a nice approximation [52 vs 4]."
   ]
  },
  {
   "cell_type": "markdown",
   "metadata": {},
   "source": [
    "### Computing $n!$"
   ]
  },
  {
   "cell_type": "code",
   "execution_count": 19,
   "metadata": {},
   "outputs": [
    {
     "name": "stdout",
     "output_type": "stream",
     "text": [
      "1 second (1.0e6 seconds): 10\n",
      "1 minute (6.0e7 seconds): 12\n",
      "1 hour (3.6e9 seconds): 13\n",
      "1 day (8.64e10 seconds): 14\n",
      "1 month (2.592e12 seconds): 16\n",
      "1 year (3.1104e13 seconds): 17\n",
      "1 century (3.1104e15 seconds): 18\n"
     ]
    }
   ],
   "source": [
    "for (p, t) in zip(periods, times)\n",
    "    n = 1\n",
    "    while factorial(n) < t\n",
    "       n += 1 \n",
    "    end\n",
    "    println(\"1 $p ($t seconds): $n\")\n",
    "end"
   ]
  },
  {
   "cell_type": "markdown",
   "metadata": {},
   "source": [
    "# Getting started\n",
    "A short introduction over the main topics\n",
    "\n",
    "**Outline**  \n",
    "* Insertion sort\n",
    "* Analyzing algorithms: introducing running time notation\n",
    "* Design of algorithms: divide-and-conquer and merge sort"
   ]
  },
  {
   "cell_type": "markdown",
   "metadata": {},
   "source": [
    "## Insertion sort\n",
    "Iterate all the elements.  \n",
    "Current element marks the switch point between the sorted array and the random one. So pick it.  \n",
    "Starting at the last of the sorted elements `i = j - 1` shift one position to the right until reaching the first place `i=0` or (`i=-1` for 0-indexed) or a lower value `A[i] > key`  \n",
    "Finally insert at the selected position (be aware of 1-indexed or 0-indexed)"
   ]
  },
  {
   "cell_type": "code",
   "execution_count": 2,
   "metadata": {},
   "outputs": [],
   "source": [
    "function insertionSort(A::Array)\n",
    "    for j in 2:size(A)[1]  # Iterate all the elements\n",
    "        key = A[j]  # current processed element\n",
    "        # Starting at the last of all the previous elements (the already sorted\n",
    "        # subarray), shift all the elements one position to the right until \n",
    "        # reaching the first place (i = 0) or a lower element (A[i] > key).\n",
    "        i = j - 1  # Start at the last of the previous elements\n",
    "        while i > 0 && A[i] > key\n",
    "            A[i + 1] = A[i]  # shift one pos to the right\n",
    "            i -= 1\n",
    "        end\n",
    "        # finally insert current element at the right position. Notice that i\n",
    "        # can be at 0 (on exiting the while loop when i > 0) so as Julia is \n",
    "        # 1-indexed i should be increased\n",
    "        A[i+1] = key\n",
    "    end\n",
    "    return A\n",
    "end\n",
    "insertionSort([5, 2, 4, 6, 1, 3, ])"
   ]
  },
  {
   "cell_type": "markdown",
   "metadata": {},
   "source": [
    "**Loop invariant**\n",
    "The sub-array that is already sorted (and therefore does not vary). We use this property to prove that the algorithm works (even without running it), let's see how:\n",
    "- **Initialization:** in the first iteration (`j = 2`) the subarray has one element and obviously is sorted.\n",
    "- **Maintenance:** over loops --`for`-- the elements are moved sequentially so order --whatever would be-- is preserved and current element is inserted in the right position.\n",
    "- **Termination:** Since we iterate all the elements in the array, input and ouput sizes are the same, we must conclude that all the elements are sorted.\n",
    "\n",
    "**Short circuiting operators**  \n",
    "In `firstExpr && SecondExpr` & `firstExpr || SecondExpr`, `&&` & `||` are short circuiting operators meaning that in order to evaluate the `SecondExpr`,  `firstExpr` should be `true` in the case of `&&` or `false` in the case of `||`."
   ]
  },
  {
   "cell_type": "markdown",
   "metadata": {},
   "source": [
    "### Exercices\n",
    "**2.1-2** Rewrite the INSERTION-SORT procedure to sort into nonincreasing instead of non-decreasing order."
   ]
  },
  {
   "cell_type": "code",
   "execution_count": 5,
   "metadata": {},
   "outputs": [
    {
     "data": {
      "text/plain": [
       "5-element Array{Int64,1}:\n",
       " 43\n",
       " 30\n",
       " 13\n",
       "  7\n",
       "  2"
      ]
     },
     "execution_count": 5,
     "metadata": {},
     "output_type": "execute_result"
    }
   ],
   "source": [
    "function reversedInsertionSort(A::Array)\n",
    "    for i in 2:size(A)[1]\n",
    "        key = A[i]\n",
    "        j = i - 1\n",
    "        while j > 0 && A[j] < key\n",
    "            A[j+1] = A[j]\n",
    "            j -= 1\n",
    "        end\n",
    "        A[j+1] = key\n",
    "    end\n",
    "    return A\n",
    "end\n",
    "reversedInsertionSort([13, 7, 2, 30, 43])"
   ]
  },
  {
   "cell_type": "markdown",
   "metadata": {},
   "source": [
    "**2.1-3** Consider the *searching problem*:   \n",
    "\n",
    "**Input:** A sequence of $n$ numbers $A = \\langle a_1, a_2,\\ldots , a_n\\rangle$ and a value $\\nu$  \n",
    "**Output:** An index $i$ such that $\\nu = A[i]$ or `Nothing` if $\\nu$ does not appear in $A$    \n",
    "Write pseudocode for linear search, which scans through the sequence, looking\n",
    "for $\\nu$. Using a loop invariant, prove that your algorithm is correct. Make sure that your loop invariant fulfills the three necessary properties.\n",
    "\n",
    "```\n",
    "SearchingProblem(A, nu)\n",
    "    for i = 1 to A.length\n",
    "        if A[i] == nu\n",
    "            return i\n",
    "    return None\n",
    "```\n",
    "\n",
    "**Initialization:** We start by checking that first value is not equal to $\\nu$ before it nothing was proved yet  \n",
    "\n",
    "**Maintenance:** Throughout the loops we check whether the value at current index is equal to $\\nu$ in which case we return the index. Previous checked values remain as they are.\n",
    "\n",
    "**Termination:** The algorithm terminates once a positive match is found or when all the elements in the array are exhausted."
   ]
  },
  {
   "cell_type": "markdown",
   "metadata": {},
   "source": [
    "**2.1-4** Consider the problem of adding two $n$-bit binary integers, stored in two n-element arrays $A$ and $B$. The sum of the two integers should be stored in binary form in an $(n+1)$-element array $C$ . State the problem formally and write pseudocode for adding the two integers. (the sum of two equal length bins outputs a n+1 length bin)"
   ]
  },
  {
   "cell_type": "code",
   "execution_count": 40,
   "metadata": {},
   "outputs": [
    {
     "data": {
      "text/plain": [
       "7-element Array{Any,1}:\n",
       " 1\n",
       " 1\n",
       " 0\n",
       " 0\n",
       " 0\n",
       " 1\n",
       " 1"
      ]
     },
     "execution_count": 40,
     "metadata": {},
     "output_type": "execute_result"
    }
   ],
   "source": [
    "function binInt(A::BitArray, B::BitArray)\n",
    "    \"\"\"Return the binary sum of two equal sized BitArrays.\n",
    "    \n",
    "    Process element wise the sum of the binary digits knowing that:\n",
    "    A[i] + B[i] + carry = sum\n",
    "      0  +   0  +   0   = 0\n",
    "      0  +   1  +   0   = 1 + 0 + 0 = 1\n",
    "      1  +   1  +   0   = 0 (carry = 1)\n",
    "      1  +   1  +   1   = 1 (carry = 1)\n",
    "    \n",
    "    Notice also that the sum of two equal length bins always output a n+1\n",
    "    length array because the first digit is 1. (Were 0 and the arrays wouldn't\n",
    "    be equal) and 1 + 1 = 10\n",
    "    \"\"\"\n",
    "    i = size(A)[2]  # == size(B)[2]; start at the end\n",
    "    carry = 0\n",
    "    C = []\n",
    "    while i > 0\n",
    "        s = A[i] + B[i] + carry\n",
    "        if s == 2  # 1 + 1 + 0\n",
    "            carry = 1\n",
    "            s = 0  # add the \"0\" in \"10\"\n",
    "        elseif s == 3  # 1 + 1 + 1\n",
    "            carry = 1\n",
    "            s = 1  # add the \"1\" in \"11\"\n",
    "        else  # 0 + 0; 0 + 1; 1 + 0\n",
    "            carry = 0\n",
    "        end\n",
    "        insert!(C, 1, s)\n",
    "        i -= 1  # go backwards\n",
    "    end\n",
    "    insert!(C, 1, carry)  # Insert the last digit (should be a 1)\n",
    "    return C\n",
    "end\n",
    "\n",
    "A = BitArray([1 1 1 0 0 0])\n",
    "B = BitArray([1 0 1 0 1 1])\n",
    "\n",
    "binInt(A, B)"
   ]
  },
  {
   "cell_type": "markdown",
   "metadata": {},
   "source": [
    "## Analyzing algorithms\n",
    "\n",
    "**RAM MODEL**  \n",
    "\n",
    "An ideal & uniform framework to compare algorithms in an unbiased way.\n",
    "\n",
    "Allowed operations:\n",
    "- **Arithmetic:** add, substract, multiply, divide, remainder, floor & ceiling\n",
    "- **Data movement:** load, store & copy\n",
    "- **Control:** conditional & unconditional branch, subroutine call & return\n",
    "\n",
    "Exponetiation is not a constant time operation in general, but in the case of shifting bits by $k$ positions, which means to murtiply by $2^k$ (notice that for negative $k$ this is dividing $k$ times by $2$)\n",
    "\n",
    "Ram model doesn't consider memory hierarchy (they are hard to work with):  \n",
    "\n",
    "<img src=\"https://upload.wikimedia.org/wikipedia/commons/0/0c/ComputerMemoryHierarchy.svg\" alt=\"drawing\" width=\"600px\"/>\n",
    "\n",
    "**Size of the input:**  \n",
    "Size of the input can be tricky to define:\n",
    "- It can be the number of elements: like in the insertion sort seen.\n",
    "- It can be the number of bits: like multiplying two integers. \n",
    "- Also it can be defined by two numbers: like in graphs, edges & vertices\n",
    "\n",
    "**Running times:**  \n",
    "When calculating running times we assume the following:\n",
    "- The running time of the algorithm is the sum of the running time of each statement\n",
    "- Each statement takes a cost $c_i$ every time it is executed\n",
    "- We usually pay attention to the worst case:\n",
    "    - to ensure an upper bound.\n",
    "    - For some algorithms the worst case occurs fairly often (like when searching a database one hits the *information not present*)\n",
    "    - The average case is often roughly as bad as the worst case.\n",
    "- Although sometimes the average case is useful (like with randomized algorithms)\n",
    "\n",
    "**Order of growth:**  \n",
    "Is the most significant exponent what really matters, though, that is, in a running time of $an^2+bn+c$, $bn+c$ remain insignificant as $n$ grows larger. So we write: \n",
    "\n",
    "$\\Theta(n^2)$, pronounced theta of n-squared"
   ]
  },
  {
   "cell_type": "markdown",
   "metadata": {},
   "source": [
    "### Exercises\n",
    "\n",
    "Consider sorting n numbers stored in array $A$ by first finding the smallest element of $A$ and exchanging it with the element in $A[1]$. Then find the second smallest element of $A$, and exchange it with $A[2]$. Continue in this manner for the first $n-1$ elements of $A$. Write pseudocode for this algorithm, which is known as **selection sort.** What loop invariant does this algorithm maintain? Why does it need to run for only the first $n-1$ elements, rather than for all $n$ elements? Give the best-case and worst-case running times of selection sort in $\\Theta$-notation.\n",
    "\n",
    "**Details**  \n",
    "- Iterate all the elements except the last one\n",
    "- Assume that current element is actually the lowest number in the array and check all the elements forward.\n",
    "- If a lower element is found set it as --temporally-- lowest\n",
    "- When all the numbers after current elements are checked swap the lowest with the current and move on to the next.\n",
    "\n",
    "**Questions:**\n",
    "- *What loop invariant does this algorithm maintain?* -> all the elements before the current one are sorted because in each loop we search the lowest one and put it at the rightmost position. So on and so forth until the previous to the last one\n",
    "- *Why does it need to run for only the first $n-1$ elements?* -> when finishing that should be the biggest number if the algorithm is correct\n",
    "- *Best/worst case:* -> there's no best case nor worst case because always we have to iterate all the remaning elements in the array to ensure the current one is the smallest, so its running time is $\\Theta(n^2)$ because of the nested loop "
   ]
  },
  {
   "cell_type": "code",
   "execution_count": 23,
   "metadata": {},
   "outputs": [],
   "source": [
    "function selectionSort(A::Array)\n",
    "    len = size(A)[1]\n",
    "    for j in 1:len - 1\n",
    "        i = j + 1\n",
    "        lower = j  # you are currently the lower element if nothing happens\n",
    "        while i <= len\n",
    "            if A[i] < A[lower]\n",
    "                lower = i\n",
    "            end\n",
    "            i += 1\n",
    "        end\n",
    "        if A[lower] != A[j]\n",
    "            A[lower], A[j] = A[j], A[lower]\n",
    "        end\n",
    "    end\n",
    "    return A\n",
    "end\n",
    "\n",
    "selectionSort([4, 5, 7, 3, 1, 2])"
   ]
  },
  {
   "cell_type": "markdown",
   "metadata": {},
   "source": [
    "## Designing algorithms: Merge sort\n",
    "\n",
    "For insertion sort we choose the **incremental approach**, now we'll use a different approach, **divide-and-conquer**\n",
    "\n",
    "<img src=\"https://upload.wikimedia.org/wikipedia/commons/e/e6/Merge_sort_algorithm_diagram.svg\" alt=\"drawing\" width=\"400px\"/>"
   ]
  },
  {
   "cell_type": "code",
   "execution_count": 12,
   "metadata": {
    "collapsed": true,
    "jupyter": {
     "outputs_hidden": true
    }
   },
   "outputs": [
    {
     "name": "stdout",
     "output_type": "stream",
     "text": [
      "Splitted Int16[38, 27, 43, 3, 9, 82, 10] into Int16[38, 27, 43], Int16[3, 9, 82, 10]\n",
      "Splitted Int16[38, 27, 43] into Int16[38], Int16[27, 43]\n",
      "Int16[38] has one element: keep it until merge time. \n",
      "Splitted Int16[27, 43] into Int16[27], Int16[43]\n",
      "Int16[27] has one element: keep it until merge time. \n",
      "Int16[43] has one element: keep it until merge time. \n",
      "Merging arrays Int16[27] & Int16[43]:\n",
      "    27 is lower than 43 => add 27\n",
      "    Int16[43] is not empty, exhaust it (already sorted)\n",
      " -> Merged array: Int16[27, 43]\n",
      "Merging arrays Int16[38] & Int16[27, 43]:\n",
      "    38 is higher than 27 => add 27\n",
      "    38 is lower than 43 => add 38\n",
      "    Int16[43] is not empty, exhaust it (already sorted)\n",
      " -> Merged array: Int16[27, 38, 43]\n",
      "Splitted Int16[3, 9, 82, 10] into Int16[3, 9], Int16[82, 10]\n",
      "Splitted Int16[3, 9] into Int16[3], Int16[9]\n",
      "Int16[3] has one element: keep it until merge time. \n",
      "Int16[9] has one element: keep it until merge time. \n",
      "Merging arrays Int16[3] & Int16[9]:\n",
      "    3 is lower than 9 => add 3\n",
      "    Int16[9] is not empty, exhaust it (already sorted)\n",
      " -> Merged array: Int16[3, 9]\n",
      "Splitted Int16[82, 10] into Int16[82], Int16[10]\n",
      "Int16[82] has one element: keep it until merge time. \n",
      "Int16[10] has one element: keep it until merge time. \n",
      "Merging arrays Int16[82] & Int16[10]:\n",
      "    82 is higher than 10 => add 10\n",
      "    Int16[82] is not empty, exhaust it (already sorted)\n",
      " -> Merged array: Int16[10, 82]\n",
      "Merging arrays Int16[3, 9] & Int16[10, 82]:\n",
      "    3 is lower than 10 => add 3\n",
      "    9 is lower than 10 => add 9\n",
      "    Int16[10, 82] is not empty, exhaust it (already sorted)\n",
      " -> Merged array: Int16[3, 9, 10, 82]\n",
      "Merging arrays Int16[27, 38, 43] & Int16[3, 9, 10, 82]:\n",
      "    27 is higher than 3 => add 3\n",
      "    27 is higher than 9 => add 9\n",
      "    27 is higher than 10 => add 10\n",
      "    27 is lower than 82 => add 27\n",
      "    38 is lower than 82 => add 38\n",
      "    43 is lower than 82 => add 43\n",
      "    Int16[82] is not empty, exhaust it (already sorted)\n",
      " -> Merged array: Int16[3, 9, 10, 27, 38, 43, 82]\n"
     ]
    },
    {
     "data": {
      "text/plain": [
       "7-element Array{Int16,1}:\n",
       "  3\n",
       "  9\n",
       " 10\n",
       " 27\n",
       " 38\n",
       " 43\n",
       " 82"
      ]
     },
     "execution_count": 12,
     "metadata": {},
     "output_type": "execute_result"
    }
   ],
   "source": [
    "function mergeSort(A::Array; verbose=true::Bool)\n",
    "    # base case, an array with no elements or one element is sorted by default\n",
    "    # This step stops the recursion, backpropagating the effect.\n",
    "    if size(A)[1] <= 1\n",
    "        verbose == true && print(\n",
    "            \"$A has one element: keep it until merge time. \\n\")\n",
    "        return A\n",
    "    end    \n",
    "    \n",
    "    # recursive case. Split the arrays two halves\n",
    "    left, right = Int16[], Int16[]\n",
    "    for (i, v) in enumerate(A)\n",
    "        if i <= size(A)[1] / 2\n",
    "            push!(left, v)\n",
    "        else\n",
    "            push!(right, v)\n",
    "        end\n",
    "    end\n",
    "    verbose == true && println(\"Splitted $A into $left, $right\")\n",
    "    \n",
    "    # And repeat above split until the array is left with one element where the\n",
    "    # function will exit letting next step (mergeArrays()) to be executed.\n",
    "    # Current iteration keeps waiting until last split is done.\n",
    "    left = mergeSort(left, verbose=verbose)\n",
    "    right = mergeSort(right, verbose=verbose)\n",
    "    \n",
    "    # Once all the elements are splitted start merging backwards\n",
    "    return mergeArrays(left, right, verbose=verbose)\n",
    "end\n",
    "\n",
    "function mergeArrays(left::Array, right::Array; verbose=true::Bool)\n",
    "    verbose == true && println(\"Merging arrays $left & $right:\")\n",
    "\n",
    "    # Loop invariant, initialization: in the beginning, the merged array is \n",
    "    # empty, so prior to the first iteration it contains 0 smallest elements\n",
    "    # from left and right arrays\n",
    "    mergedArray = Int16[]\n",
    "    \n",
    "    \n",
    "    # Loop invariant, maintenance: over loops we choose the smallest of the\n",
    "    # comparison between left & right and since they came sorted, mergedArray\n",
    "    # holds over iterations\n",
    "    while ~isempty(left) && ~isempty(right)\n",
    "        r, l = right[1], left[1]\n",
    "        if l <= r\n",
    "            verbose == true && println(\"    $l is lower than $r => add $l\")\n",
    "            push!(mergedArray, left[1])\n",
    "            left = left[2:end]  # pop!() removes last item\n",
    "        else\n",
    "            verbose == true && println(\"    $l is higher than $r => add $r\")\n",
    "            push!(mergedArray, right[1])\n",
    "            right = right[2:end]\n",
    "        end\n",
    "    end\n",
    "    \n",
    "    # One and only one of those arrays won't be empty but its elements are\n",
    "    # already ordered since the previous iterations, so just add them \n",
    "    ~isempty(left) && verbose == true && println(\n",
    "        \"    $left is not empty, exhaust it (already sorted)\")\n",
    "    ~isempty(right) && verbose == true && println(\n",
    "        \"    $right is not empty, exhaust it (already sorted)\")\n",
    "    while ~isempty(left)\n",
    "        push!(mergedArray, left[1])\n",
    "        left = left[2:end]\n",
    "    end\n",
    "    while ~isempty(right)\n",
    "        push!(mergedArray, right[1])\n",
    "        right = right[2:end]\n",
    "    end\n",
    "    \n",
    "    # Loop invariant, termination: since we're left with empty sub-arrays, and \n",
    "    # we have kept sorting elements we must conclude that the merged array\n",
    "    # contains both subarrays ordered\n",
    "    \n",
    "    verbose == true && println(\" -> Merged array: $mergedArray\")\n",
    "    return mergedArray\n",
    "end\n",
    "\n",
    "mergeSort(Int16[38, 27, 43, 3, 9, 82, 10], verbose=true)\n",
    "        "
   ]
  },
  {
   "cell_type": "markdown",
   "metadata": {},
   "source": [
    "## Loop invariants\n",
    "\n",
    "This is a short incursion into loop invariants because they seem to be quite useful.\n",
    "\n",
    "[Source](https://yourbasic.org/algorithms/loop-invariants-explained/)\n",
    "\n",
    "**Definition**  \n",
    "> A loop invariant is a statement about program variables that is true before and after each iteration of a loop.\n",
    "\n",
    "And the three properties seen before:\n",
    "* **Initialization:** the condition holds before the first iteration\n",
    "* **Maintenance:** the condition holds over loops. If the invariant is true before an iteration of the loop, it should be true also after the iteration.\n",
    "* **Termination:** When the loop is terminated the invariant should tell us something useful, something that helps us understand the algorithm.\n",
    "\n",
    "**The simplest example:**"
   ]
  },
  {
   "cell_type": "code",
   "execution_count": 1,
   "metadata": {},
   "outputs": [
    {
     "data": {
      "text/plain": [
       "true"
      ]
     },
     "execution_count": 1,
     "metadata": {},
     "output_type": "execute_result"
    }
   ],
   "source": [
    "function sumFromZero(n::Int64)::Int64\n",
    "    \"\"\"Sum all the numbers from zero to n.\"\"\"\n",
    "    # Initialization: the sum at the beginning is zero and the loop starts at 1\n",
    "    sum = 0\n",
    "    i = 1\n",
    "    \n",
    "    # Maintenance: the loop invariant holds because we add i to the sum and \n",
    "    # increment it by one unit\n",
    "    while i <= n\n",
    "        sum += i\n",
    "        i += 1\n",
    "    end\n",
    "    \n",
    "    # Termination: since we have exhausted all the integers less or equal than\n",
    "    # n we are left with sum = 0 +1 + 2 + 3 + ... + n\n",
    "    \n",
    "    return sum \n",
    "end\n",
    "sumFromZero(10) == 1 + 2 + 3 + 4 + 5 + 6 + 7 + 8 + 9 + 10"
   ]
  },
  {
   "cell_type": "markdown",
   "metadata": {},
   "source": [
    "When designing loops, start by the termination clause, then adjust initialization and finally set maintenance"
   ]
  },
  {
   "cell_type": "markdown",
   "metadata": {},
   "source": [
    "### 3-way partition algorithm\n",
    "[source](https://yourbasic.org/golang/quicksort-optimizations/)\n",
    "\n",
    "Is an optimization algortithm, that is, it's used to improve the efficiency of some other sorting algorithm like insertion sort\n",
    "\n",
    "Overview:\n",
    "* Pick an element p, called a pivot, from the list.\n",
    "* Partition the list so that\n",
    "    * all elements less than p come first,\n",
    "    * all elements greater than p come last, \n",
    "    * elements equal to p go into the middle.\n",
    "* Recursively apply the above steps to the sublists of small and large elements.\n",
    "* For short sublists, use a simpler sorting algorithm.\n"
   ]
  },
  {
   "cell_type": "code",
   "execution_count": 8,
   "metadata": {},
   "outputs": [
    {
     "data": {
      "text/plain": [
       "3-element Array{Int64,1}:\n",
       " 9\n",
       " 7\n",
       " 8"
      ]
     },
     "execution_count": 8,
     "metadata": {},
     "output_type": "execute_result"
    }
   ],
   "source": [
    "[rand(1:10) for _ in 1:3]"
   ]
  },
  {
   "cell_type": "code",
   "execution_count": 9,
   "metadata": {},
   "outputs": [],
   "source": [
    "using StatsBase\n",
    "using Statistics\n",
    "A = sample(1:10000, 50, replace = false)\n",
    "\n",
    "function insertionSort(A::Array)::Array\n",
    "    for i in 2:size(A)[1]\n",
    "        key = A[i]\n",
    "        j = i - 1\n",
    "        while j > 0 && key < A[j]\n",
    "            A[j + 1] = A[j]\n",
    "            j -= 1\n",
    "        end\n",
    "        A[j+1] = key\n",
    "    end\n",
    "    return A\n",
    "end\n",
    "\n",
    "function pivot(v::Array)::Int64\n",
    "    n = size(v)[1]\n",
    "    return median([rand(1:n) for _ in 1:3])\n",
    "end"
   ]
  },
  {
   "cell_type": "code",
   "execution_count": 3,
   "metadata": {},
   "outputs": [],
   "source": [
    "function partition(v::Array, p::Int64)\n",
    "    low, high = 1, size(v)[1]\n",
    "    mid = 1\n",
    "    while mid < high\n",
    "        if v[mid] < p\n",
    "            v[mid], v[low] = v[low], v[mid]\n",
    "            mid += 1\n",
    "            low += 1\n",
    "        elseif v[mid] == p\n",
    "            mid += 1\n",
    "        else  # a > p\n",
    "            v[mid], v[high] = v[high], v[mid]\n",
    "            high -= 1\n",
    "        end\n",
    "    end\n",
    "    return low, high\n",
    "            \n",
    "end\n",
    "\n",
    "partition([10, 2, 12, 15, 7, 3, 20], 15)"
   ]
  },
  {
   "cell_type": "code",
   "execution_count": 8,
   "metadata": {},
   "outputs": [
    {
     "data": {
      "text/plain": [
       "3-element Array{Int64,1}:\n",
       " 3\n",
       " 6\n",
       " 9"
      ]
     },
     "execution_count": 8,
     "metadata": {},
     "output_type": "execute_result"
    }
   ],
   "source": [
    "function sum(A::Array)\n",
    "    for i in 1:size(A)[1]\n",
    "        A[i] += 1\n",
    "    end\n",
    "end\n",
    "A = [2, 5, 8]\n",
    "sum(A)\n",
    "A"
   ]
  },
  {
   "cell_type": "code",
   "execution_count": 7,
   "metadata": {},
   "outputs": [
    {
     "name": "stdout",
     "output_type": "stream",
     "text": [
      "2620 is less than 3064\n",
      "219 is less than 3064\n",
      "59 is less than 3064\n",
      "2921 is less than 3064\n",
      "1348 is less than 3064\n",
      "59 is less than 219\n",
      "order Any[59] by insertion sort\n",
      "order Any[2620, 2921, 1348] by insertion sort\n",
      "order Any[] by insertion sort\n",
      "4972 is less than 8297\n",
      "6974 is less than 8297\n",
      "7834 is less than 8297\n",
      "4277 is less than 8297\n",
      "4293 is less than 8297\n",
      "5800 is less than 8297\n",
      "4248 is less than 8297\n",
      "7481 is less than 8297\n",
      "5074 is less than 8297\n",
      "4248 is less than 4277\n",
      "order Any[4248] by insertion sort\n",
      "4972 is less than 7834\n",
      "6974 is less than 7834\n",
      "4293 is less than 7834\n",
      "5800 is less than 7834\n",
      "7481 is less than 7834\n",
      "5074 is less than 7834\n",
      "order Any[] by insertion sort\n",
      "4972 is less than 6974\n",
      "5800 is less than 6974\n",
      "5074 is less than 6974\n",
      "order Any[4972, 5800, 5074] by insertion sort\n",
      "order Any[7481] by insertion sort\n",
      "order Any[] by insertion sort\n",
      "order Any[8656, 8333, 9554] by insertion sort\n",
      "8656 > 6974 at 8\n",
      "8333 > 8297 at 11\n",
      "8297 > 4046 at 12\n",
      "5800 > 4248 at 16\n",
      "9554 > 7481 at 18\n",
      "7481 > 5074 at 19\n"
     ]
    }
   ],
   "source": [
    "function quickSort(A::Array)::Array\n",
    "    if size(A)[1] < 20\n",
    "        println(\"order $A by insertion sort\")\n",
    "        return insertionSort(A)\n",
    "    end\n",
    "    \n",
    "    p = pivot(A)\n",
    "    low, high = partition(v, p)\n",
    "    \n",
    "    quickSort\n",
    "        \n",
    "    # Initialization: in the beginning all the arrays are empty\n",
    "    left, middle, right = [], [], []\n",
    "    \n",
    "    \n",
    "    p = div(size(A)[1], 2)\n",
    "    for n in A\n",
    "        pivot_value = A[p]\n",
    "        if n < A[p]\n",
    "            println(\"$n is less than $pivot_value\")\n",
    "            push!(left, n)\n",
    "        elseif n > A[p]\n",
    "            push!(right, n)\n",
    "        else\n",
    "            push!(middle, n)\n",
    "        end\n",
    "    end\n",
    "    left = partition(left)\n",
    "#     middle = partition(middle)\n",
    "    rigth = partition(right)\n",
    "    \n",
    "    return vcat(left, middle, right)\n",
    "end\n",
    "\n",
    "\n",
    "# check everything is ok\n",
    "A = partition(A)\n",
    "for i in 1:size(A)[1] - 1\n",
    "    cur, nxt = A[i], A[i+1]\n",
    "    if cur > nxt\n",
    "        println(\"$cur > $nxt at $i\")\n",
    "    end\n",
    "end\n",
    "\n",
    "# A"
   ]
  },
  {
   "cell_type": "markdown",
   "metadata": {},
   "source": [
    "# Growth of functions"
   ]
  },
  {
   "cell_type": "markdown",
   "metadata": {},
   "source": [
    "# Divide-and-conquer"
   ]
  },
  {
   "cell_type": "markdown",
   "metadata": {},
   "source": [
    "# Probabilistic Analysis and Randomized Algorithms"
   ]
  },
  {
   "cell_type": "code",
   "execution_count": null,
   "metadata": {},
   "outputs": [],
   "source": []
  }
 ],
 "metadata": {
  "kernelspec": {
   "display_name": "Julia 1.4.1",
   "language": "julia",
   "name": "julia-1.4"
  },
  "language_info": {
   "file_extension": ".jl",
   "mimetype": "application/julia",
   "name": "julia",
   "version": "1.4.1"
  },
  "toc-autonumbering": true,
  "toc-showmarkdowntxt": false
 },
 "nbformat": 4,
 "nbformat_minor": 4
}
